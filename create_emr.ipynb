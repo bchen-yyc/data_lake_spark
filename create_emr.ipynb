{
 "cells": [
  {
   "cell_type": "code",
   "execution_count": 1,
   "metadata": {},
   "outputs": [],
   "source": [
    "import pandas as pd\n",
    "import boto3\n",
    "import json"
   ]
  },
  {
   "cell_type": "code",
   "execution_count": 2,
   "metadata": {},
   "outputs": [],
   "source": [
    "import configparser\n",
    "config = configparser.ConfigParser()\n",
    "config.read_file(open('dl.cfg'))\n",
    "\n",
    "KEY                    = config.get('AWS','AWS_ACCESS_KEY_ID')\n",
    "SECRET                 = config.get('AWS','AWS_SECRET_ACCESS_KEY')"
   ]
  },
  {
   "cell_type": "code",
   "execution_count": 3,
   "metadata": {},
   "outputs": [],
   "source": [
    "client = boto3.client('emr', \n",
    "                      region_name='us-west-2',\n",
    "                      aws_access_key_id=KEY,\n",
    "                      aws_secret_access_key=SECRET)\n",
    "\n",
    "response = client.run_job_flow(\n",
    "    Name=\"Boto3 test cluster\",\n",
    "    ReleaseLabel='emr-5.31.0',\n",
    "    Instances={\n",
    "        'MasterInstanceType': 'm5.xlarge',\n",
    "        'SlaveInstanceType': 'm5.xlarge',\n",
    "        'InstanceCount': 3,\n",
    "        'KeepJobFlowAliveWhenNoSteps': True,\n",
    "        'TerminationProtected': False,\n",
    "        'Ec2SubnetId': 'subnet-f894b6d3',\n",
    "        'Ec2KeyName': 'emr-cluster',\n",
    "    },\n",
    "    VisibleToAllUsers=True,\n",
    "    Applications=[{'Name':'Spark'},{'Name':'Hadoop'},{'Name':'Livy'}],\n",
    "    JobFlowRole='EMR_EC2_DefaultRole',\n",
    "    ServiceRole='EMR_DefaultRole'    \n",
    ")"
   ]
  },
  {
   "cell_type": "code",
   "execution_count": 6,
   "metadata": {
    "scrolled": true
   },
   "outputs": [
    {
     "data": {
      "text/plain": [
       "{'JobFlowId': 'j-24HK9T36S0C9T',\n",
       " 'ResponseMetadata': {'RequestId': 'bbe79913-03a2-443e-8b92-1fab875bc133',\n",
       "  'HTTPStatusCode': 200,\n",
       "  'HTTPHeaders': {'x-amzn-requestid': 'bbe79913-03a2-443e-8b92-1fab875bc133',\n",
       "   'content-type': 'application/x-amz-json-1.1',\n",
       "   'content-length': '118',\n",
       "   'date': 'Wed, 24 Mar 2021 16:18:24 GMT'},\n",
       "  'RetryAttempts': 0}}"
      ]
     },
     "execution_count": 6,
     "metadata": {},
     "output_type": "execute_result"
    }
   ],
   "source": [
    "response"
   ]
  }
 ],
 "metadata": {
  "kernelspec": {
   "display_name": "Python 3",
   "language": "python",
   "name": "python3"
  },
  "language_info": {
   "codemirror_mode": {
    "name": "ipython",
    "version": 3
   },
   "file_extension": ".py",
   "mimetype": "text/x-python",
   "name": "python",
   "nbconvert_exporter": "python",
   "pygments_lexer": "ipython3",
   "version": "3.7.6"
  }
 },
 "nbformat": 4,
 "nbformat_minor": 4
}
